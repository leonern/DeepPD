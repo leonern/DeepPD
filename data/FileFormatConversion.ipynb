{
 "cells": [
  {
   "cell_type": "code",
   "execution_count": 1,
   "metadata": {},
   "outputs": [],
   "source": [
    "import os\n",
    "import re\n",
    "import codecs #或者io，使用哪种包无所谓\n",
    "import pandas as pandas\n",
    "\n",
    "def txt2fa(inputfile,outputfile):\n",
    "    \n",
    "    #df = pandas.read_csv(file)\n",
    "    temp_file = outputfile\n",
    "\n",
    "    with open(inputfile, 'r') as inf:\n",
    "        lines = inf.read().splitlines()\n",
    "\n",
    "    id = 0\n",
    "    f = open(temp_file, 'w')\n",
    "    for pep in lines:\n",
    "        pep,label = pep.split(\",\")\n",
    "        f.write('>'+str(id)+'_'+str(label)+'\\n'+pep+'\\n')\n",
    "        id+=1\n",
    "        \n",
    "    f.close()\n",
    "    print(\"文件格式转换完成！\")"
   ]
  },
  {
   "cell_type": "code",
   "execution_count": 2,
   "metadata": {},
   "outputs": [
    {
     "name": "stdout",
     "output_type": "stream",
     "text": [
      "文件格式转换完成！\n"
     ]
    }
   ],
   "source": [
    "#file_path = r'D:\\软件安装\\vscode\\Code\\PD_model\\data\\PSMM_test.csv'\n",
    "path2 = r\"D:\\DeepPD\\data\\GPMDB_Homo_sapiens_20190115\\sorted_GPMDB_Homo_0.025.csv\"\n",
    "out = r'D:\\DeepPD\\data\\GPMDB_Homo_sapiens_20190115\\sorted_GPMDB_Homo_0.025.fasta'\n",
    "txt2fa(path2,out)"
   ]
  },
  {
   "cell_type": "code",
   "execution_count": 1,
   "metadata": {},
   "outputs": [],
   "source": [
    "import pandas as pd\n",
    "from Bio import SeqIO\n",
    "\n",
    "def Fa2Csv(fafile,csvfile):\n",
    "    meta = []\n",
    "    sequence = []\n",
    "    label=[]\n",
    "    i=0\n",
    "    seq = fafile\n",
    "    for seq_record in SeqIO.parse(seq, \"fasta\"):\n",
    "        label.append(str(seq_record.id[-1]))\n",
    "        sequence.append(str(seq_record.seq))\n",
    "        # print(sequence)\n",
    "        df = pd.DataFrame(data={'SequenceID': sequence,'Label':label}) #转换后的文件的表头\n",
    "        \n",
    "        # 数据存入csv\n",
    "        df.to_csv(csvfile, sep=',', index=False)  #转换后的文件"
   ]
  },
  {
   "cell_type": "code",
   "execution_count": 2,
   "metadata": {},
   "outputs": [],
   "source": [
    "fafile_path = r'D:\\DeepPD\\data\\GPMDB_Homo_sapiens_20190115\\sorted_GPMDB_Homo_0.025_0.9.fasta'  \n",
    "outfile = r'D:\\DeepPD\\data\\GPMDB_Homo_sapiens_20190115\\sorted_GPMDB_Homo_0.025_0.9.csv'\n",
    "Fa2Csv(fafile_path,outfile)"
   ]
  },
  {
   "cell_type": "code",
   "execution_count": null,
   "metadata": {},
   "outputs": [],
   "source": []
  }
 ],
 "metadata": {
  "kernelspec": {
   "display_name": "env3.8",
   "language": "python",
   "name": "python3"
  },
  "language_info": {
   "codemirror_mode": {
    "name": "ipython",
    "version": 3
   },
   "file_extension": ".py",
   "mimetype": "text/x-python",
   "name": "python",
   "nbconvert_exporter": "python",
   "pygments_lexer": "ipython3",
   "version": "3.8.0"
  },
  "orig_nbformat": 4
 },
 "nbformat": 4,
 "nbformat_minor": 2
}
